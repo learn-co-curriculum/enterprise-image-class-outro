{
 "cells": [
  {
   "cell_type": "markdown",
   "metadata": {
    "id": "KZgEiobFMwOC"
   },
   "source": [
    "# Summary"
   ]
  },
  {
   "cell_type": "markdown",
   "metadata": {
    "id": "YWWFWhFzMz0r"
   },
   "source": [
    "We are now able to:\n",
    "*   Explain what is meant by \"deep representations\" of images\n",
    "*   Mathematically represent forward and back propagation in a deep neural network\n",
    "*   Build a multi-layer neural network image classifier using Keras\n",
    "*   Load a saved `Keras` model\n",
    "*   Use Keras methods to visualize the activation functions in CNNs"
   ]
  },
  {
   "cell_type": "markdown",
   "metadata": {
    "id": "Br2oXPLcOUGA"
   },
   "source": [
    "In particular, we now know how to interpret the neural network layers that we have visualized. In other words, we can envision the computer vision."
   ]
  },
  {
   "cell_type": "markdown",
   "metadata": {
    "id": "-A9oMqdpO2lI"
   },
   "source": [
    "## Loading models and transfer learning"
   ]
  },
  {
   "cell_type": "markdown",
   "metadata": {
    "id": "sK0DWtGzPDqd"
   },
   "source": [
    "When we visualized intermediate activations, we loaded a `Keras` model. We'll next see how we can use a load a model and use it to help a different, but related problem with *transfer learning*."
   ]
  }
 ],
 "metadata": {
  "colab": {
   "collapsed_sections": [],
   "provenance": []
  },
  "kernelspec": {
   "display_name": "Python 3 (ipykernel)",
   "language": "python",
   "name": "python3"
  },
  "language_info": {
   "codemirror_mode": {
    "name": "ipython",
    "version": 3
   },
   "file_extension": ".py",
   "mimetype": "text/x-python",
   "name": "python",
   "nbconvert_exporter": "python",
   "pygments_lexer": "ipython3",
   "version": "3.9.12"
  }
 },
 "nbformat": 4,
 "nbformat_minor": 1
}
